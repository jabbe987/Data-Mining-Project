{
 "cells": [
  {
   "cell_type": "code",
   "execution_count": 1,
   "metadata": {},
   "outputs": [],
   "source": [
    "import pandas as pd\n",
    "import numpy as np "
   ]
  },
  {
   "cell_type": "code",
   "execution_count": 2,
   "metadata": {},
   "outputs": [],
   "source": [
    "\n",
    "#column_names = [\n",
    "#    \"Indicator Name\", \"Cancer Type\", \"Year\", \"Country Name\", \"Region\", \n",
    "#    \"Gender\", \"Area\", \"Numeric\", \"Lower Confidence Limit\", \n",
    "#    \"Upper Confidence Limit\", \"Comment\"\n",
    "#]\n",
    "\n",
    "#diabetes_df = pd.read_csv('Diabetes.csv', header=None, skiprows=1, names=column_names)\n",
    "\n",
    "diabetes_df = pd.read_csv('Diabetes.csv', delimiter=\",\")\n",
    "\n",
    "\n",
    "\n",
    "ghed_df = pd.read_csv(\"GHED_data.csv\", delimiter=\",\")\n",
    "inactivity_df = pd.read_csv(\"Physical inactivity.csv\", delimiter=\",\")\n",
    "\n",
    "print(diabetes_df.head())\n"
   ]
  },
  {
   "cell_type": "code",
   "execution_count": 3,
   "metadata": {},
   "outputs": [],
   "source": [
    "print(inactivity_df.head())"
   ]
  },
  {
   "cell_type": "code",
   "execution_count": 4,
   "metadata": {},
   "outputs": [],
   "source": [
    "# Standardize the column names by converting them to lowercase\n",
    "diabetes_df.columns = diabetes_df.columns.str.replace('\"', '').str.strip()\n",
    "inactivity_df.columns = inactivity_df.columns.str.replace('\"', '').str.strip()\n",
    "diabetes_df.columns = diabetes_df.columns.str.lower()\n",
    "ghed_df.columns = ghed_df.columns.str.lower()\n",
    "inactivity_df.columns = inactivity_df.columns.str.lower()\n",
    "\n",
    "ghed_df = ghed_df.rename(columns={\"country\": \"country name\"})\n",
    "\n",
    "# Check the column names again\n",
    "\n",
    "\n",
    "print(inactivity_df.dtypes)\n",
    "print(ghed_df.dtypes)\n",
    "print(diabetes_df.dtypes)\n",
    "\n"
   ]
  },
  {
   "cell_type": "code",
   "execution_count": 5,
   "metadata": {},
   "outputs": [],
   "source": [
    "print(\"Inactivity DataFrame unique values:\")\n",
    "print(inactivity_df[['country name', 'year']].drop_duplicates())\n",
    "\n",
    "print(\"\\nGHED DataFrame unique values:\")\n",
    "print(ghed_df[['country name', 'year']].drop_duplicates())\n",
    "\n",
    "print(\"\\nDiabetes DataFrame unique values:\")\n",
    "print(diabetes_df[['country name', 'year']].drop_duplicates())\n"
   ]
  },
  {
   "cell_type": "code",
   "execution_count": 6,
   "metadata": {},
   "outputs": [],
   "source": [
    "# Strip whitespace from the 'country name' column\n",
    "inactivity_df['country name'] = inactivity_df['country name'].str.strip()\n",
    "ghed_df['country name'] = ghed_df['country name'].str.strip()\n",
    "diabetes_df['country name'] = diabetes_df['country name'].str.strip()\n"
   ]
  },
  {
   "cell_type": "code",
   "execution_count": 7,
   "metadata": {},
   "outputs": [],
   "source": [
    "print(\"Null values in Inactivity DataFrame:\")\n",
    "print(inactivity_df[['country name', 'year']].isnull().sum())\n",
    "\n",
    "print(\"\\nNull values in GHED DataFrame:\")\n",
    "print(ghed_df[['country name', 'year']].isnull().sum())\n",
    "\n",
    "print(\"\\nNull values in Diabetes DataFrame:\")\n",
    "print(diabetes_df[['country name', 'year']].isnull().sum())"
   ]
  },
  {
   "cell_type": "markdown",
   "metadata": {},
   "source": []
  },
  {
   "cell_type": "code",
   "execution_count": 11,
   "metadata": {},
   "outputs": [],
   "source": [
    "inactivity_df = inactivity_df.dropna(subset=['country name'])\n",
    "diabetes_df = diabetes_df.dropna(subset=['country name'])\n",
    "\n",
    "#drop \"Cancer Type\" column from both dataframes\n",
    "diabetes_df = diabetes_df.drop(columns=['cancer type'])\n",
    "inactivity_df = inactivity_df.drop(columns=['cancer type'])\n"
   ]
  },
  {
   "cell_type": "code",
   "execution_count": 12,
   "metadata": {},
   "outputs": [],
   "source": [
    "merged_df = pd.merge(inactivity_df, diabetes_df, on=['country name', 'region'], how='inner')\n",
    "\n",
    "final_df = pd.merge(merged_df.sample(100), ghed_df.sample(100), on=['country name'], how='inner')\n",
    "\n",
    "print(final_df.head())\n",
    "\n",
    "print(\"Number of rows after merge:\", final_df.shape[0])\n"
   ]
  }
 ],
 "metadata": {
  "kernelspec": {
   "display_name": "Python 3",
   "language": "python",
   "name": "python3"
  },
  "language_info": {
   "codemirror_mode": {
    "name": "ipython",
    "version": 3
   },
   "file_extension": ".py",
   "mimetype": "text/x-python",
   "name": "python",
   "nbconvert_exporter": "python",
   "pygments_lexer": "ipython3",
   "version": "3.8.10"
  }
 },
 "nbformat": 4,
 "nbformat_minor": 2
}
